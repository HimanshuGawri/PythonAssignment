{
 "cells": [
  {
   "cell_type": "markdown",
   "metadata": {},
   "source": [
    "# Python Assignment - 1"
   ]
  },
  {
   "cell_type": "code",
   "execution_count": 7,
   "metadata": {},
   "outputs": [
    {
     "name": "stdout",
     "output_type": "stream",
     "text": [
      "x =  5\n",
      "y =  3\n"
     ]
    }
   ],
   "source": [
    "# ans. 1\n",
    "\n",
    "x = 3\n",
    "y = 5\n",
    "\n",
    "x=x+y\n",
    "y=x-y\n",
    "x=x-y\n",
    "\n",
    "print(\"x = \",x)\n",
    "print(\"y = \",y)"
   ]
  },
  {
   "cell_type": "code",
   "execution_count": 12,
   "metadata": {},
   "outputs": [
    {
     "name": "stdout",
     "output_type": "stream",
     "text": [
      "enter the number : 7\n",
      "odd number\n"
     ]
    }
   ],
   "source": [
    "# ans. 2\n",
    "\n",
    "no = int(input(\"enter the number : \"))\n",
    "if no%2==0:\n",
    "    print(\"even number\")\n",
    "else:\n",
    "    print(\"odd number\")"
   ]
  },
  {
   "cell_type": "code",
   "execution_count": 14,
   "metadata": {},
   "outputs": [
    {
     "name": "stdout",
     "output_type": "stream",
     "text": [
      "enter the number : 9\n",
      "Square Root of 9 is 3.0\n"
     ]
    }
   ],
   "source": [
    "# ans. 3\n",
    "\n",
    "no = int(input(\"enter the number : \"))\n",
    "result=no**0.5\n",
    "\n",
    "print(\"Square Root of\",no,\"is\",result)"
   ]
  },
  {
   "cell_type": "code",
   "execution_count": 29,
   "metadata": {},
   "outputs": [
    {
     "name": "stdout",
     "output_type": "stream",
     "text": [
      "Enter the value of n : 5\n",
      "1\n",
      "2\n",
      "3\n",
      "4\n",
      "5\n",
      "reversed order is : \n",
      "5\n",
      "4\n",
      "3\n",
      "2\n",
      "1\n"
     ]
    }
   ],
   "source": [
    "# ans. 4\n",
    "\n",
    "n=int(input(\"Enter the value of n : \"))\n",
    "\n",
    "for i in range(1,n+1):\n",
    "    print (i)\n",
    "print(\"reversed order is : \")\n",
    "for i in range(n,0,-1):\n",
    "    print (i)\n"
   ]
  },
  {
   "cell_type": "code",
   "execution_count": 3,
   "metadata": {},
   "outputs": [
    {
     "name": "stdout",
     "output_type": "stream",
     "text": [
      "Enter the radius of Sphere : 6\n",
      "Volume of sphere is :  904.3199999999999\n"
     ]
    }
   ],
   "source": [
    "# ans. 5\n",
    "\n",
    "r = int(input(\"Enter the radius of Sphere : \" ))\n",
    "\n",
    "print(\"Volume of sphere is : \",4/3*3.14*r**3)"
   ]
  },
  {
   "cell_type": "code",
   "execution_count": 51,
   "metadata": {},
   "outputs": [
    {
     "name": "stdout",
     "output_type": "stream",
     "text": [
      "Even numbers are : \n",
      "2 , 4 , 6 , 8 , 10 , 12 , 14 , 16 , 18 , 20 , 22 , 24 , 26 , 28 , 30 , 32 , 34 , 36 , 38 , 40 , 42 , 44 , 46 , 48 , 50 , 52 , 54 , 56 , 58 , 60 , 62 , 64 , 66 , 68 , 70 , 72 , 74 , 76 , 78 , 80 , 82 , 84 , 86 , 88 , 90 , 92 , 94 , 96 , 98 , 100 , \n",
      "\n",
      "\n",
      "Odd numbers are : \n",
      "1 , 3 , 5 , 7 , 9 , 11 , 13 , 15 , 17 , 19 , 21 , 23 , 25 , 27 , 29 , 31 , 33 , 35 , 37 , 39 , 41 , 43 , 45 , 47 , 49 , 51 , 53 , 55 , 57 , 59 , 61 , 63 , 65 , 67 , 69 , 71 , 73 , 75 , 77 , 79 , 81 , 83 , 85 , 87 , 89 , 91 , 93 , 95 , 97 , 99 , "
     ]
    }
   ],
   "source": [
    "# ans. 6\n",
    "\n",
    "print(\"Even numbers are : \")\n",
    "for i in range(1,101):\n",
    "    if(i%2==0):\n",
    "        print(i,end=\" , \")\n",
    "        \n",
    "print(\"\\n\\n\")\n",
    "\n",
    "print(\"Odd numbers are : \") \n",
    "for i in range(1,101):\n",
    "    if(i%2!=0):\n",
    "        print(i,end=\" , \")"
   ]
  },
  {
   "cell_type": "code",
   "execution_count": 7,
   "metadata": {},
   "outputs": [
    {
     "name": "stdout",
     "output_type": "stream",
     "text": [
      "Enter the values of a,b,c in quadratic equation ax^2+bx+c=0\n",
      "a = 3\n",
      "b = 8\n",
      "c = 5\n",
      "Roots are :  -22.5 , -37.5\n"
     ]
    }
   ],
   "source": [
    "# ans. 7\n",
    "\n",
    "print(\"Enter the values of a,b,c in quadratic equation ax^2+bx+c=0\")\n",
    "\n",
    "a = int(input(\"a = \"))\n",
    "b = int(input(\"b = \"))\n",
    "c = int(input(\"c = \"))\n",
    "\n",
    "d=(b**2-4*a*c)**0.5\n",
    "\n",
    "root1= (-b+d)/4*a*c\n",
    "root2= (-b-d)/4*a*c\n",
    "\n",
    "print(\"Roots are : \",root1,\",\",root2)\n"
   ]
  },
  {
   "cell_type": "code",
   "execution_count": 5,
   "metadata": {},
   "outputs": [
    {
     "name": "stdout",
     "output_type": "stream",
     "text": [
      "enter a number : 37830\n",
      "number of digits are :  5\n"
     ]
    }
   ],
   "source": [
    "# ans. 8\n",
    "\n",
    "no=(input(\"enter a number : \"))\n",
    "print(\"number of digits are : \",len(no))\n"
   ]
  },
  {
   "cell_type": "code",
   "execution_count": 25,
   "metadata": {},
   "outputs": [
    {
     "name": "stdout",
     "output_type": "stream",
     "text": [
      "Enter the number : 7\n",
      "7 ==>True\n"
     ]
    }
   ],
   "source": [
    "# ans. 9\n",
    "\n",
    "no = int(input(\"Enter the number : \"))\n",
    "for i in range(2,no//2):\n",
    "    if(no%i==0):\n",
    "        print(no,\"==>False\")\n",
    "    else:\n",
    "        print(no,\"==>True\")\n",
    "\n",
    "\n"
   ]
  },
  {
   "cell_type": "code",
   "execution_count": 33,
   "metadata": {},
   "outputs": [
    {
     "name": "stdout",
     "output_type": "stream",
     "text": [
      "Enter the number 'n' : 10\n",
      "sum is :  33\n"
     ]
    }
   ],
   "source": [
    "# ans. 10\n",
    "\n",
    "sum=0\n",
    "n=int(input(\"Enter the number 'n' : \"))\n",
    "for i in range(1,n+1):\n",
    "    if(i%3==0 or i%5==0):\n",
    "        \n",
    "        sum=sum+i\n",
    "        \n",
    "print(\"sum is : \",sum)        \n",
    "        "
   ]
  },
  {
   "cell_type": "code",
   "execution_count": 1,
   "metadata": {},
   "outputs": [
    {
     "name": "stdout",
     "output_type": "stream",
     "text": [
      "Enter the number 'n' : 6\n",
      "\n",
      "\n",
      "1. Addition\n",
      "2. Multiplication\n",
      "Enter your choice : 2\n",
      "product is :  720\n"
     ]
    }
   ],
   "source": [
    "# ans. 11\n",
    "\n",
    "sum=0\n",
    "product=1\n",
    "n=int(input(\"Enter the number 'n' : \"))\n",
    "\n",
    "print(\"\\n\")\n",
    "print(\"1. Addition\")\n",
    "print(\"2. Multiplication\")\n",
    "ch=int(input(\"Enter your choice : \"))\n",
    "if(ch==1):\n",
    "    for i in range(1,n+1):\n",
    "        sum=sum+i\n",
    "    print(\"Sum is : \",sum)\n",
    "elif(ch==2):\n",
    "    for i in range(1,n+1):\n",
    "        product=product*i\n",
    "    print(\"product is : \",product)\n",
    "else:\n",
    "    print(\"wrong choice entered\")\n",
    "    "
   ]
  },
  {
   "cell_type": "code",
   "execution_count": 3,
   "metadata": {},
   "outputs": [
    {
     "name": "stdout",
     "output_type": "stream",
     "text": [
      "Sum is :  234168\n"
     ]
    }
   ],
   "source": [
    "# ans. 12\n",
    "\n",
    "sum=0\n",
    "for i in range(1,1001):\n",
    "    if(i%3==0 or i%5==0):\n",
    "        sum = sum+i\n",
    "print(\"Sum is : \",sum)        \n",
    "    "
   ]
  },
  {
   "cell_type": "code",
   "execution_count": 5,
   "metadata": {},
   "outputs": [
    {
     "name": "stdout",
     "output_type": "stream",
     "text": [
      "Numbers divisble by 7 but not by 5 are : \n",
      "2002 , 2009 , 2016 , 2023 , 2037 , 2044 , 2051 , 2058 , 2072 , 2079 , 2086 , 2093 , 2107 , 2114 , 2121 , 2128 , 2142 , 2149 , 2156 , 2163 , 2177 , 2184 , 2191 , 2198 , 2212 , 2219 , 2226 , 2233 , 2247 , 2254 , 2261 , 2268 , 2282 , 2289 , 2296 , 2303 , 2317 , 2324 , 2331 , 2338 , 2352 , 2359 , 2366 , 2373 , 2387 , 2394 , 2401 , 2408 , 2422 , 2429 , 2436 , 2443 , 2457 , 2464 , 2471 , 2478 , 2492 , 2499 , 2506 , 2513 , 2527 , 2534 , 2541 , 2548 , 2562 , 2569 , 2576 , 2583 , 2597 , 2604 , 2611 , 2618 , 2632 , 2639 , 2646 , 2653 , 2667 , 2674 , 2681 , 2688 , 2702 , 2709 , 2716 , 2723 , 2737 , 2744 , 2751 , 2758 , 2772 , 2779 , 2786 , 2793 , 2807 , 2814 , 2821 , 2828 , 2842 , 2849 , 2856 , 2863 , 2877 , 2884 , 2891 , 2898 , 2912 , 2919 , 2926 , 2933 , 2947 , 2954 , 2961 , 2968 , 2982 , 2989 , 2996 , 3003 , 3017 , 3024 , 3031 , 3038 , 3052 , 3059 , 3066 , 3073 , 3087 , 3094 , 3101 , 3108 , 3122 , 3129 , 3136 , 3143 , 3157 , 3164 , 3171 , 3178 , 3192 , 3199 , "
     ]
    }
   ],
   "source": [
    "# ans. 13\n",
    "\n",
    "print(\"Numbers divisble by 7 but not by 5 are : \")\n",
    "\n",
    "for i in range(2000,3201,):\n",
    "    if(i%7==0 and i%5!=0):\n",
    "        print(i,end=\" , \")"
   ]
  },
  {
   "cell_type": "code",
   "execution_count": 17,
   "metadata": {},
   "outputs": [
    {
     "name": "stdout",
     "output_type": "stream",
     "text": [
      "diffrence is : -25164150\n"
     ]
    }
   ],
   "source": [
    "# ans. 14\n",
    "\n",
    "sumofsqr = 0\n",
    "sqrofsum = 0\n",
    "\n",
    "for i in range(1,101):\n",
    "    sumofsqr+=i**2\n",
    "for i in range(1,101):\n",
    "    sqrofsum+=i\n",
    "    \n",
    "print(\"diffrence is :\",sumofsqr-(sqrofsum**2))  \n",
    "    \n"
   ]
  },
  {
   "cell_type": "code",
   "execution_count": 12,
   "metadata": {},
   "outputs": [
    {
     "name": "stdout",
     "output_type": "stream",
     "text": [
      "Enter the number or type stop : 6\n",
      "Enter the number or type stop : 9\n",
      "Enter the number or type stop : 3\n",
      "Enter the number or type stop : 2\n",
      "Enter the number or type stop : 5\n",
      "Enter the number or type stop : stop\n",
      "count is :  5\n",
      "total is :  25\n",
      "average is :  4.166666666666667\n"
     ]
    }
   ],
   "source": [
    "# ans. 15\n",
    "\n",
    "count=0\n",
    "total=0\n",
    "no=0\n",
    "\n",
    "while no!=\"stop\":\n",
    "    count+=1\n",
    "    total+=int(no)\n",
    "    no=input(\"Enter the number or type stop : \")\n",
    "    \n",
    "print(\"count is : \",count-1)\n",
    "print(\"total is : \",total)\n",
    "print(\"average is : \",total/count)\n",
    "       \n",
    "       "
   ]
  },
  {
   "cell_type": "code",
   "execution_count": 23,
   "metadata": {},
   "outputs": [
    {
     "name": "stdout",
     "output_type": "stream",
     "text": [
      "Enter the number : 29\n",
      "7 , 9 , 11 , 13 , 15 , 17 , 19 , 21 , 23 , 25 , 27 , 29 , "
     ]
    }
   ],
   "source": [
    "# ans. 16\n",
    "\n",
    "def isprime(n):\n",
    "    flag = 1\n",
    "    for i in range(2,n//2):\n",
    "        if(n%i==0):\n",
    "            flag=0\n",
    "            break\n",
    "        if(flag!=0):\n",
    "            return 1\n",
    "        else:\n",
    "            return 0\n",
    "        \n",
    "no=int(input(\"Enter the number : \"))   \n",
    "for i in range (2,no+1):\n",
    "    check=isprime(i)\n",
    "    if (check==1):\n",
    "        print(i,end=\" , \")"
   ]
  },
  {
   "cell_type": "code",
   "execution_count": 29,
   "metadata": {},
   "outputs": [
    {
     "name": "stdout",
     "output_type": "stream",
     "text": [
      "Enter the number : 7\n",
      "Factorial of given number is :  5040\n"
     ]
    }
   ],
   "source": [
    "# ans. 17\n",
    "\n",
    "factorial = 1\n",
    "no = int(input(\"Enter the number : \"))\n",
    "for i in range(no,1,-1):\n",
    "    factorial*=i\n",
    "print(\"Factorial of given number is : \",factorial)    \n"
   ]
  },
  {
   "cell_type": "code",
   "execution_count": 36,
   "metadata": {},
   "outputs": [
    {
     "name": "stdout",
     "output_type": "stream",
     "text": [
      "Enter n : 7\n",
      "0 1 , 1 , 2 , 3 , 5 , 8 , "
     ]
    }
   ],
   "source": [
    "# ans. 18\n",
    "\n",
    "x=0\n",
    "y=1\n",
    "n=int(input(\"Enter n : \"))\n",
    "print(x,y,end=' , ')\n",
    "for i in range(3,n+1):\n",
    "    z=x+y\n",
    "    print(z,end=' , ')\n",
    "    x=y\n",
    "    y=z\n",
    "    \n"
   ]
  },
  {
   "cell_type": "code",
   "execution_count": null,
   "metadata": {},
   "outputs": [
    {
     "name": "stdout",
     "output_type": "stream",
     "text": [
      "Enter first number : 3\n",
      "Enter second number : 7\n"
     ]
    }
   ],
   "source": [
    "# ans. 19\n",
    "\n",
    "x=int(input(\"Enter first number : \" ))\n",
    "y=int(input(\"Enter second number : \"))\n",
    "if x>y:\n",
    "    max=x\n",
    "else:\n",
    "    max=y\n",
    "    \n",
    "while(True):\n",
    "    if (max%x==0 and max%y==0):\n",
    "        print(\"L.C.M. is\",max )\n",
    "        break\n",
    "        max+=1\n",
    "    "
   ]
  },
  {
   "cell_type": "code",
   "execution_count": 3,
   "metadata": {},
   "outputs": [
    {
     "name": "stdout",
     "output_type": "stream",
     "text": [
      "*\n",
      "**\n",
      "***\n",
      "****\n",
      "*****\n"
     ]
    }
   ],
   "source": [
    "# ans. 20.1\n",
    "\n",
    "for i in range(1,6):\n",
    "    print(i*\"*\")"
   ]
  },
  {
   "cell_type": "code",
   "execution_count": 4,
   "metadata": {},
   "outputs": [
    {
     "name": "stdout",
     "output_type": "stream",
     "text": [
      "*******\n",
      "******\n",
      "*****\n",
      "****\n",
      "***\n",
      "**\n",
      "*\n"
     ]
    }
   ],
   "source": [
    "# ans. 20.2\n",
    "\n",
    "for i in range(7,0,-1):\n",
    "    print(i*\"*\")\n"
   ]
  },
  {
   "cell_type": "code",
   "execution_count": 11,
   "metadata": {},
   "outputs": [
    {
     "name": "stdout",
     "output_type": "stream",
     "text": [
      "1\n",
      "\n",
      "22\n",
      "\n",
      "333\n",
      "\n",
      "4444\n",
      "\n",
      "55555\n",
      "\n"
     ]
    }
   ],
   "source": [
    "# ans. 20.3\n",
    "\n",
    "for i in range(1,6):\n",
    "    for j in range(1,i+1):\n",
    "        print(i,end=\"\")\n",
    "    print(\"\\n\")        \n"
   ]
  },
  {
   "cell_type": "code",
   "execution_count": 15,
   "metadata": {},
   "outputs": [
    {
     "name": "stdout",
     "output_type": "stream",
     "text": [
      "* \n",
      "\n",
      "* \n",
      "\n",
      "* \n",
      "\n",
      "* \n",
      "\n",
      "* \n",
      "\n",
      "* \n",
      "\n",
      "* \n",
      "\n",
      "* \n",
      "\n",
      "* \n",
      "\n",
      "* \n",
      "\n",
      "* \n",
      "\n",
      "* \n",
      "\n",
      "* \n",
      "\n",
      "* \n",
      "\n",
      "* \n",
      "\n",
      "* \n",
      "\n",
      "* \n",
      "\n",
      "* \n",
      "\n",
      "* \n",
      "\n",
      "* \n",
      "\n",
      "* \n",
      "\n",
      "* \n",
      "\n",
      "* \n",
      "\n",
      "* \n",
      "\n",
      "* \n",
      "\n"
     ]
    }
   ],
   "source": [
    "# ans.20.4\n",
    "\n",
    "for i in range(5,0,-1):\n",
    "    for j in range(0,5):\n",
    "            print(\"*\",\"\\n\")\n",
    "\n"
   ]
  },
  {
   "cell_type": "code",
   "execution_count": null,
   "metadata": {},
   "outputs": [],
   "source": []
  }
 ],
 "metadata": {
  "kernelspec": {
   "display_name": "Python 3",
   "language": "python",
   "name": "python3"
  },
  "language_info": {
   "codemirror_mode": {
    "name": "ipython",
    "version": 3
   },
   "file_extension": ".py",
   "mimetype": "text/x-python",
   "name": "python",
   "nbconvert_exporter": "python",
   "pygments_lexer": "ipython3",
   "version": "3.7.3"
  }
 },
 "nbformat": 4,
 "nbformat_minor": 2
}
