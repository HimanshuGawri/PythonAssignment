{
 "cells": [
  {
   "cell_type": "code",
   "execution_count": 3,
   "metadata": {},
   "outputs": [
    {
     "name": "stdout",
     "output_type": "stream",
     "text": [
      "Enter the string : python\n",
      "\n",
      "length of string : 6\n"
     ]
    }
   ],
   "source": [
    "# ans 1.\n",
    "\n",
    "string=input(\"Enter the string : \")\n",
    "count=0\n",
    "\n",
    "for i in string:\n",
    "    count+=1\n",
    "    \n",
    "print(\"\\nlength of string :\",count)    "
   ]
  },
  {
   "cell_type": "code",
   "execution_count": 4,
   "metadata": {},
   "outputs": [
    {
     "name": "stdout",
     "output_type": "stream",
     "text": [
      "Enter 1st string : Jupyter\n",
      "Enter 2nd string : Notebook\n",
      "\n",
      "Concatenated string : JupyterNotebook\n"
     ]
    }
   ],
   "source": [
    "# ans. 2\n",
    "\n",
    "string1=input(\"Enter 1st string : \")\n",
    "string2=input(\"Enter 2nd string : \")\n",
    "\n",
    "print(\"\\nConcatenated string :\",string1 + string2)"
   ]
  },
  {
   "cell_type": "code",
   "execution_count": 6,
   "metadata": {},
   "outputs": [
    {
     "name": "stdout",
     "output_type": "stream",
     "text": [
      "Enter the string : python 8888\n",
      "\n",
      "Letters : 6\n",
      "Numbers : 4\n"
     ]
    }
   ],
   "source": [
    "# ans 3.\n",
    "\n",
    "string=input(\"Enter the string : \")\n",
    "\n",
    "count1=0\n",
    "count2=0\n",
    "\n",
    "for i in string:\n",
    "    if i.isalpha():\n",
    "        count1+=1 \n",
    "    elif i.isdigit():\n",
    "        count2+=1\n",
    "        \n",
    "print(\"\\nLetters :\",count1)\n",
    "print(\"Numbers :\",count2)\n"
   ]
  },
  {
   "cell_type": "code",
   "execution_count": 9,
   "metadata": {},
   "outputs": [
    {
     "name": "stdout",
     "output_type": "stream",
     "text": [
      "Enter the string : python\n",
      "\n",
      " python ==> PYTHON\n"
     ]
    }
   ],
   "source": [
    "# ans 4.\n",
    "\n",
    "string=input(\"Enter the string : \")\n",
    "print(\"\\n\",string,\"==>\",string.upper())"
   ]
  },
  {
   "cell_type": "code",
   "execution_count": 4,
   "metadata": {},
   "outputs": [
    {
     "name": "stdout",
     "output_type": "stream",
     "text": [
      "Enter the string : PythOn\n",
      "\n",
      "UPPER case letters : 2\n",
      "lower case letters : 4\n"
     ]
    }
   ],
   "source": [
    "# ans 5.\n",
    "\n",
    "string=input(\"Enter the string : \")\n",
    "\n",
    "count1=0\n",
    "count2=0\n",
    "\n",
    "for i in string:\n",
    "    if i.isupper():\n",
    "        count1+=1 \n",
    "    elif i.islower():\n",
    "        count2+=1\n",
    "        \n",
    "print(\"\\nUPPER case letters :\",count1)\n",
    "print(\"lower case letters :\",count2)"
   ]
  },
  {
   "cell_type": "code",
   "execution_count": 13,
   "metadata": {},
   "outputs": [
    {
     "name": "stdout",
     "output_type": "stream",
     "text": [
      "Enter the string : pyTHON\n",
      "\n",
      "Modified string : PYthon\n"
     ]
    }
   ],
   "source": [
    "# ans 6.\n",
    "\n",
    "string=input(\"Enter the string : \")\n",
    "result=''\n",
    "\n",
    "for i in string:\n",
    "    if i.isupper():\n",
    "        result+=i.lower()\n",
    "    elif i.islower():\n",
    "        result+=i.upper()\n",
    "        \n",
    "        \n",
    "print(\"\\nModified string :\",result)\n",
    "\n"
   ]
  },
  {
   "cell_type": "code",
   "execution_count": 15,
   "metadata": {},
   "outputs": [
    {
     "name": "stdout",
     "output_type": "stream",
     "text": [
      "Enter the string : python notebook\n",
      "Enter the character : o\n",
      "\n",
      "' o ' is present 4 times in string ' python notebook '\n"
     ]
    }
   ],
   "source": [
    "# ans 7.\n",
    "\n",
    "string=input(\"Enter the string : \")\n",
    "char=input(\"Enter the character : \")\n",
    "\n",
    "print(\"\\n'\",char,\"' is present\",string.count(char),\"times in string '\",string,\"'\")\n",
    "    "
   ]
  },
  {
   "cell_type": "code",
   "execution_count": 30,
   "metadata": {},
   "outputs": [
    {
     "name": "stdout",
     "output_type": "stream",
     "text": [
      "Enter the string : noon\n",
      "\n",
      " noon is a Pallindrome\n"
     ]
    }
   ],
   "source": [
    "# ans 8.\n",
    "\n",
    "string=input(\"Enter the string : \")\n",
    "revstring=string[::-1]\n",
    "\n",
    "if revstring == string:\n",
    "    print(\"\\n\",string,\"is a Pallindrome\")\n",
    "else:\n",
    "    print(string,\"is not a Pallindrome\")\n"
   ]
  },
  {
   "cell_type": "code",
   "execution_count": 29,
   "metadata": {},
   "outputs": [
    {
     "name": "stdout",
     "output_type": "stream",
     "text": [
      "Enter the string : hello\n",
      "Enter the index : 0\n",
      "Enter the character : J\n",
      "\n",
      " hello ==> Jello\n"
     ]
    }
   ],
   "source": [
    "# ans 9.\n",
    "\n",
    "string=input(\"Enter the string : \")\n",
    "index=int(input(\"Enter the index : \"))\n",
    "char=input(\"Enter the character : \")\n",
    "hold=\"\"\n",
    "\n",
    "temp=list(string)\n",
    "temp.pop(index)\n",
    "temp.insert(index,char)\n",
    "\n",
    "for i in temp:\n",
    "    hold+=i\n",
    "print(\"\\n\",string,\"==>\",hold)"
   ]
  },
  {
   "cell_type": "code",
   "execution_count": 10,
   "metadata": {},
   "outputs": [
    {
     "name": "stdout",
     "output_type": "stream",
     "text": [
      "Enter the string : processor\n",
      "Enter the Substring : pro\n",
      "\n",
      "' pro ' is present 1 times in string ' processor '\n"
     ]
    }
   ],
   "source": [
    "# ans. 10\n",
    "\n",
    "string=input(\"Enter the string : \")\n",
    "substring=input(\"Enter the Substring : \")\n",
    "\n",
    "print(\"\\n'\",substring,\"' is present\",string.count(substring),\"times in string '\",string,\"'\")"
   ]
  },
  {
   "cell_type": "code",
   "execution_count": 21,
   "metadata": {},
   "outputs": [
    {
     "name": "stdout",
     "output_type": "stream",
     "text": [
      "Enter the Binary number : 111010101000101010111\n",
      "K = 3\n",
      "True\n"
     ]
    }
   ],
   "source": [
    "# ans. 11\n",
    "\n",
    "no=(input(\"Enter the Binary number : \"))\n",
    "k=int(input(\"K = \"))\n",
    "\n",
    "total='1'*k\n",
    "\n",
    "if total in no:\n",
    "    print(\"True\")\n",
    "else:\n",
    "    print(\"False\")\n"
   ]
  },
  {
   "cell_type": "code",
   "execution_count": 22,
   "metadata": {},
   "outputs": [
    {
     "name": "stdout",
     "output_type": "stream",
     "text": [
      "Enter the string : python\n",
      "\n",
      "Reversed string : nohtyp\n"
     ]
    }
   ],
   "source": [
    "# ans. 12\n",
    "\n",
    "string=(input(\"Enter the string : \"))\n",
    "print(\"\\nReversed string :\",string[::-1])\n"
   ]
  },
  {
   "cell_type": "code",
   "execution_count": 23,
   "metadata": {},
   "outputs": [],
   "source": [
    "# ans. 13"
   ]
  },
  {
   "cell_type": "code",
   "execution_count": 27,
   "metadata": {},
   "outputs": [
    {
     "name": "stdout",
     "output_type": "stream",
     "text": [
      "Enter the string : notebook\n",
      "Enter the Substring : notes\n",
      "\n",
      "' notes ' is not a substring of string ' notebook '\n"
     ]
    }
   ],
   "source": [
    "# ans. 14\n",
    "\n",
    "string=input(\"Enter the string : \")\n",
    "substring=input(\"Enter the Substring : \")\n",
    "\n",
    "if substring in string:\n",
    "    print(\"\\n'\",substring,\"' is a substring of string '\",string,\"'\")\n",
    "\n",
    "else:\n",
    "    print(\"\\n'\",substring,\"' is not a substring of string '\",string,\"'\")"
   ]
  },
  {
   "cell_type": "code",
   "execution_count": null,
   "metadata": {},
   "outputs": [],
   "source": [
    "# ans 15."
   ]
  }
 ],
 "metadata": {
  "kernelspec": {
   "display_name": "Python 3",
   "language": "python",
   "name": "python3"
  },
  "language_info": {
   "codemirror_mode": {
    "name": "ipython",
    "version": 3
   },
   "file_extension": ".py",
   "mimetype": "text/x-python",
   "name": "python",
   "nbconvert_exporter": "python",
   "pygments_lexer": "ipython3",
   "version": "3.7.3"
  }
 },
 "nbformat": 4,
 "nbformat_minor": 2
}
