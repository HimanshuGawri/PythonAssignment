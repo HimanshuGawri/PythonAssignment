{
 "cells": [
  {
   "cell_type": "code",
   "execution_count": 1,
   "metadata": {},
   "outputs": [
    {
     "data": {
      "text/plain": [
       "125"
      ]
     },
     "execution_count": 1,
     "metadata": {},
     "output_type": "execute_result"
    }
   ],
   "source": [
    "# ans. 1\n",
    "\n",
    "def power(x,y):\n",
    "    return (x**y)\n",
    "\n",
    "power(5,3)"
   ]
  },
  {
   "cell_type": "code",
   "execution_count": 2,
   "metadata": {},
   "outputs": [
    {
     "data": {
      "text/plain": [
       "'jupyternotebook'"
      ]
     },
     "execution_count": 2,
     "metadata": {},
     "output_type": "execute_result"
    }
   ],
   "source": [
    "# ans 2.\n",
    "\n",
    "def conc(x=\"Hello\",y=\"World\"):\n",
    "    return(x+y)\n",
    "        \n",
    "conc(x=\"jupyter\",y=\"notebook\")"
   ]
  },
  {
   "cell_type": "code",
   "execution_count": 6,
   "metadata": {},
   "outputs": [
    {
     "data": {
      "text/plain": [
       "False"
      ]
     },
     "execution_count": 6,
     "metadata": {},
     "output_type": "execute_result"
    }
   ],
   "source": [
    "# ans 3.\n",
    "\n",
    "def oddeven(x):\n",
    "    if(x%2==0):\n",
    "        return True\n",
    "    else:\n",
    "        return False\n",
    "\n",
    "oddeven(9)"
   ]
  },
  {
   "cell_type": "code",
   "execution_count": 5,
   "metadata": {},
   "outputs": [
    {
     "data": {
      "text/plain": [
       "True"
      ]
     },
     "execution_count": 5,
     "metadata": {},
     "output_type": "execute_result"
    }
   ],
   "source": [
    "#ans 4.\n",
    "\n",
    "def isprime(n):\n",
    "    flag = 1\n",
    "    for i in range(2,n//2):\n",
    "        if(n%i==0):\n",
    "            flag=0\n",
    "            break\n",
    "        if(flag!=0):\n",
    "            return True\n",
    "        else:\n",
    "            return False\n",
    "        \n",
    "isprime(9)        "
   ]
  },
  {
   "cell_type": "code",
   "execution_count": 9,
   "metadata": {},
   "outputs": [
    {
     "data": {
      "text/plain": [
       "True"
      ]
     },
     "execution_count": 9,
     "metadata": {},
     "output_type": "execute_result"
    }
   ],
   "source": [
    "# ans 5.\n",
    "\n",
    "def palindrome(string):\n",
    "    \n",
    "\n",
    "    revstring=string[::-1]\n",
    "\n",
    "    if revstring == string:\n",
    "        return True\n",
    "    \n",
    "    else:\n",
    "        return False\n",
    "\n",
    "palindrome(\"naman\")"
   ]
  },
  {
   "cell_type": "code",
   "execution_count": 4,
   "metadata": {},
   "outputs": [
    {
     "name": "stdout",
     "output_type": "stream",
     "text": [
      "Enter the string : i am learning python\n",
      "Total words are :  4\n"
     ]
    }
   ],
   "source": [
    "# ans 6.\n",
    "\n",
    "string=input(\"Enter the string : \")\n",
    "\n",
    "count=1\n",
    "\n",
    "for i in string:\n",
    "    if (i==' '):\n",
    "        count+=1\n",
    "\n",
    "print(\"Total words are : \",count)        "
   ]
  },
  {
   "cell_type": "code",
   "execution_count": 8,
   "metadata": {},
   "outputs": [
    {
     "name": "stdout",
     "output_type": "stream",
     "text": [
      "Enter 1st number : 4\n",
      "Enter 2nd number : 9\n",
      "Enter 3rd number : 2\n",
      "Greatest among three is : \n",
      "9\n"
     ]
    }
   ],
   "source": [
    "# ans 7.\n",
    "\n",
    "n1=int(input(\"Enter 1st number : \"))\n",
    "n2=int(input(\"Enter 2nd number : \"))\n",
    "n3=int(input(\"Enter 3rd number : \"))\n",
    "\n",
    "print(\"Greatest among three is : \")\n",
    "if(n1>=n2 and n1>=n3):\n",
    "    print(n1)\n",
    "elif(n2>=n1 and n2>=n3):\n",
    "    print(n2)\n",
    "else:\n",
    "    print(n3)"
   ]
  },
  {
   "cell_type": "code",
   "execution_count": 9,
   "metadata": {},
   "outputs": [],
   "source": [
    "# ans 8."
   ]
  },
  {
   "cell_type": "code",
   "execution_count": 11,
   "metadata": {},
   "outputs": [
    {
     "name": "stdout",
     "output_type": "stream",
     "text": [
      "Enter the number : 456\n",
      "Reversed number : 654\n"
     ]
    }
   ],
   "source": [
    "# ans 9.\n",
    "\n",
    "no=input(\"Enter the number : \")\n",
    "print(\"Reversed number :\",(no[::-1]))"
   ]
  },
  {
   "cell_type": "code",
   "execution_count": 12,
   "metadata": {},
   "outputs": [
    {
     "name": "stdout",
     "output_type": "stream",
     "text": [
      "Enter 1st number : 1\n",
      "Enter 2nd number : 45\n",
      "Enter 3rd number : 9\n",
      "Greatest among three is : \n",
      "45\n"
     ]
    }
   ],
   "source": [
    "# ans 10.\n",
    "\n",
    "n1=int(input(\"Enter 1st number : \"))\n",
    "n2=int(input(\"Enter 2nd number : \"))\n",
    "n3=int(input(\"Enter 3rd number : \"))\n",
    "\n",
    "print(\"Greatest among three is : \")\n",
    "if(n1>=n2 and n1>=n3):\n",
    "    print(n1)\n",
    "elif(n2>=n1 and n2>=n3):\n",
    "    print(n2)\n",
    "else:\n",
    "    print(n3)"
   ]
  },
  {
   "cell_type": "code",
   "execution_count": 14,
   "metadata": {},
   "outputs": [
    {
     "name": "stdout",
     "output_type": "stream",
     "text": [
      "Enter the number : 1089060032\n",
      "Modified number : 1589565532\n"
     ]
    }
   ],
   "source": [
    "# ans 11.\n",
    "\n",
    "no=input(\"Enter the number : \")\n",
    "new=no.replace(\"0\",\"5\")\n",
    "print(\"Modified number :\",new)"
   ]
  },
  {
   "cell_type": "code",
   "execution_count": 19,
   "metadata": {},
   "outputs": [
    {
     "name": "stdout",
     "output_type": "stream",
     "text": [
      "Enter the number : 8\n",
      "8 * 1 = 8\n",
      "8 * 2 = 16\n",
      "8 * 3 = 24\n",
      "8 * 4 = 32\n",
      "8 * 5 = 40\n",
      "8 * 6 = 48\n",
      "8 * 7 = 56\n",
      "8 * 8 = 64\n",
      "8 * 9 = 72\n",
      "8 * 10 = 80\n"
     ]
    }
   ],
   "source": [
    "# ans 12.\n",
    "\n",
    "no=int(input(\"Enter the number : \"))\n",
    "for i in range(1,11):\n",
    "    print(no,\"*\",i,\"=\",no*i)"
   ]
  },
  {
   "cell_type": "code",
   "execution_count": 24,
   "metadata": {},
   "outputs": [
    {
     "name": "stdout",
     "output_type": "stream",
     "text": [
      "Enter the number : 456\n",
      "Sum of digits of number 456 is 15\n"
     ]
    }
   ],
   "source": [
    "# ans 13.\n",
    "\n",
    "no=int(input(\"Enter the number : \"))\n",
    "hold=no\n",
    "sum=0\n",
    "while(hold>0):\n",
    "    sum=sum+hold%10\n",
    "    hold=hold//10\n",
    "print(\"Sum of digits of number\",no,\"is\",sum)    "
   ]
  },
  {
   "cell_type": "code",
   "execution_count": 25,
   "metadata": {},
   "outputs": [],
   "source": [
    "# ans 14."
   ]
  },
  {
   "cell_type": "code",
   "execution_count": 26,
   "metadata": {},
   "outputs": [
    {
     "name": "stdout",
     "output_type": "stream",
     "text": [
      "Enter the number : 123\n",
      "Reversed number : 321\n"
     ]
    }
   ],
   "source": [
    "# ans 15.\n",
    "\n",
    "\n",
    "no=input(\"Enter the number : \")\n",
    "print(\"Reversed number :\",(no[::-1]))"
   ]
  },
  {
   "cell_type": "code",
   "execution_count": null,
   "metadata": {},
   "outputs": [],
   "source": [
    "# ans 16."
   ]
  }
 ],
 "metadata": {
  "kernelspec": {
   "display_name": "Python 3",
   "language": "python",
   "name": "python3"
  },
  "language_info": {
   "codemirror_mode": {
    "name": "ipython",
    "version": 3
   },
   "file_extension": ".py",
   "mimetype": "text/x-python",
   "name": "python",
   "nbconvert_exporter": "python",
   "pygments_lexer": "ipython3",
   "version": "3.7.3"
  }
 },
 "nbformat": 4,
 "nbformat_minor": 2
}
